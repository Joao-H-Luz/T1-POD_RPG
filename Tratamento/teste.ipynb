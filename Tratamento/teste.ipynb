{
 "cells": [
  {
   "cell_type": "code",
   "execution_count": 33,
   "id": "de6e6419",
   "metadata": {},
   "outputs": [],
   "source": [
    "# Converter o Arquivo \"Ficha.md\" em Personagens\n",
    "\n",
    "with open(\"Ficha.md\", 'r') as fold: # Abre | faz a Leitura | Salva o conteudo em conteudo | Fecha o arquivo\n",
    "    conteudo = fold.readlines()"
   ]
  },
  {
   "cell_type": "code",
   "execution_count": null,
   "id": "10acb3a3",
   "metadata": {},
   "outputs": [
    {
     "name": "stdout",
     "output_type": "stream",
     "text": [
      "['## Personagens\\n', '\\n', '### Aragorn\\n', '- **Classe**: Guerreiro\\n', '- **Habilidades**:\\n', '  - Tiro de Arco\\n', '\\n', '### Gandalf\\n', '- **Classe**: Mago\\n', '- **Habilidades**:\\n', '  - BolaDeFogo\\n', '  - Cura\\n', '  - Tiro de Arco\\n', '  - BolaDeFogo\\n', '\\n', '### Legolas\\n', '- **Classe**: Ladino\\n', '- **Habilidades**:\\n', '  - Tiro de Arco\\n', '  - Cura\\n', '\\n', '### Boromir\\n', '- **Classe**: Guerreiro\\n', '- **Habilidades**:\\n', '  - Tiro de Arco\\n', '\\n', '### Saruman\\n', '- **Classe**: Mago\\n', '- **Habilidades**:\\n', '  - BolaDeFogo\\n', '  - Cura\\n', '  - Tiro de Arco\\n', '  - BolaDeFogo\\n', '  - Cura\\n', '  - Tiro de Arco \\n', '\\n', '### Gollum\\n', '- **Classe**: Ladino\\n', '- **Habilidades**:\\n', '  - Tiro de Arco\\n', '  - Cura\\n', '\\n', '### Frodo\\n', '- **Classe**: Ladino\\n', '- **Habilidades**:\\n', '  - Tiro de Arco\\n', '  - Cura\\n', '  - Escudo Divino']\n",
      "Frodo\n",
      "Ladino\n",
      "Escudo Divino\n",
      "['## Personagens', '', '### Aragorn', '- **Classe**: Guerreiro', '- **Habilidades**:', '- Tiro de Arco', '', '### Gandalf', '- **Classe**: Mago', '- **Habilidades**:', '- BolaDeFogo', '- Cura', '- Tiro de Arco', '- BolaDeFogo', '', '### Legolas', '- **Classe**: Ladino', '- **Habilidades**:', '- Tiro de Arco', '- Cura', '', '### Boromir', '- **Classe**: Guerreiro', '- **Habilidades**:', '- Tiro de Arco', '', '### Saruman', '- **Classe**: Mago', '- **Habilidades**:', '- BolaDeFogo', '- Cura', '- Tiro de Arco', '- BolaDeFogo', '- Cura', '- Tiro de Arco', '', '### Gollum', '- **Classe**: Ladino', '- **Habilidades**:', '- Tiro de Arco', '- Cura', '', '### Frodo', '- **Classe**: Ladino', '- **Habilidades**:', '- Tiro de Arco', '- Cura', '- Escudo Divino']\n",
      "['Frodo', 'Ladino', '**Habilidades**:', 'Tiro de Arco', 'Cura', 'Escudo Divino']\n",
      "[['Aragorn', 'Guerreiro', '**Habilidades**:', 'Tiro de Arco'], ['Gandalf', 'Mago', '**Habilidades**:', 'BolaDeFogo', 'Cura', 'Tiro de Arco', 'BolaDeFogo'], ['Legolas', 'Ladino', '**Habilidades**:', 'Tiro de Arco', 'Cura'], ['Boromir', 'Guerreiro', '**Habilidades**:', 'Tiro de Arco'], ['Saruman', 'Mago', '**Habilidades**:', 'BolaDeFogo', 'Cura', 'Tiro de Arco', 'BolaDeFogo', 'Cura', 'Tiro de Arco'], ['Gollum', 'Ladino', '**Habilidades**:', 'Tiro de Arco', 'Cura'], ['Frodo', 'Ladino', '**Habilidades**:', 'Tiro de Arco', 'Cura', 'Escudo Divino']]\n",
      "['Aragorn', 'Guerreiro', '**Habilidades**:', 'Tiro de Arco']\n",
      "[]\n"
     ]
    }
   ],
   "source": [
    "def tratamento(string: str):\n",
    "    return string.strip()\n",
    "\n",
    "conteudo_tratado = list(map(tratamento, conteudo))\n",
    "\n",
    "dados = []\n",
    "personagens = []\n",
    "personagens_criados = []\n",
    "\n",
    "for linhas in conteudo_tratado[2:]:\n",
    "    if \"###\" in linhas:\n",
    "        tipo_nome = linhas[4:]\n",
    "        dados.append(tipo_nome)\n",
    "\n",
    "    elif \"**Classe**\" in linhas:\n",
    "        tipo_class = linhas[14:]\n",
    "        dados.append(tipo_class)\n",
    "\n",
    "    elif \"-\" in linhas:\n",
    "        tipo_habilidade = linhas[2:]\n",
    "        dados.append(tipo_habilidade)\n",
    "\n",
    "    elif \"\" in linhas:\n",
    "        personagens.append(dados[:])\n",
    "        dados.clear()\n",
    "\n",
    "personagens.append(dados[:])\n",
    "            \n",
    "           \n",
    "# print(personagem)\n",
    "print(conteudo)\n",
    "print(tipo_nome)\n",
    "print(tipo_class)\n",
    "print(tipo_habilidade)\n",
    "print(conteudo_tratado)\n",
    "print(dados)\n",
    "print(personagens)\n",
    "print(personagens[0])"
   ]
  },
  {
   "cell_type": "code",
   "execution_count": null,
   "id": "e1482370",
   "metadata": {},
   "outputs": [
    {
     "name": "stdout",
     "output_type": "stream",
     "text": [
      "('Saruman', 'Mago', ['BolaDeFogo', 'Cura', 'Tiro de Arco', 'BolaDeFogo', 'Cura'])\n"
     ]
    }
   ],
   "source": [
    "def tratamento_de_personagens(lista:list):\n",
    "    nome = lista[0]             # Nome do Personagem\n",
    "    classe = lista[1]           # Classe do Personagem\n",
    "# Verificação de Classe e Tratamento do tamanho do Inventario\n",
    "    if \"Guerreiro\" in lista:    # Se for \"Guerreiro\" tamanho de 2 Habilidades no máximo\n",
    "        habilidade = lista[3:5]\n",
    "        \n",
    "    if \"Mago\" in lista:         # Se for \"Mago\" tamanho de 5 Habilidades no máximo\n",
    "        habilidade = lista[3:8] \n",
    "\n",
    "    if \"Ladino\" in lista:       # Se for \"Ladino\" tamanho de 5 Habilidades no máximo\n",
    "        habilidade = lista[3:6]\n",
    "        \n",
    "    return Personagem(nome, classe, habilidade)\n",
    "\n",
    "\n",
    "print(tratamento_de_personagens(personagens[4]))"
   ]
  },
  {
   "cell_type": "code",
   "execution_count": 20,
   "id": "12090881",
   "metadata": {},
   "outputs": [
    {
     "name": "stdout",
     "output_type": "stream",
     "text": [
      "('Saruman', 'Mago', ['BolaDeFogo', 'Cura', 'Tiro de Arco', 'BolaDeFogo', 'Cura'])\n"
     ]
    }
   ],
   "source": [
    "tratado = list(map(tratamento_de_personagens, personagens))\n",
    "print(tratado[4])"
   ]
  },
  {
   "cell_type": "code",
   "execution_count": 21,
   "id": "de6f2e3f",
   "metadata": {},
   "outputs": [
    {
     "name": "stdout",
     "output_type": "stream",
     "text": [
      "['Saruman', 'Mago', '**Habilidades**:', 'BolaDeFogo', 'Cura', 'Tiro de Arco', 'BolaDeFogo', 'Cura', 'Tiro de Arco']\n"
     ]
    }
   ],
   "source": [
    "print(personagens[4])"
   ]
  },
  {
   "cell_type": "code",
   "execution_count": 129,
   "id": "2a6dde20",
   "metadata": {},
   "outputs": [],
   "source": [
    "def tratamento_de_personagens(lista: list):\n",
    "    personagem = Personagem(lista[0], lista[1], lista[3:],)\n",
    "    personagens_criados.append(personagem)"
   ]
  }
 ],
 "metadata": {
  "kernelspec": {
   "display_name": "venv",
   "language": "python",
   "name": "python3"
  },
  "language_info": {
   "codemirror_mode": {
    "name": "ipython",
    "version": 3
   },
   "file_extension": ".py",
   "mimetype": "text/x-python",
   "name": "python",
   "nbconvert_exporter": "python",
   "pygments_lexer": "ipython3",
   "version": "3.13.3"
  }
 },
 "nbformat": 4,
 "nbformat_minor": 5
}
